{
 "cells": [
  {
   "cell_type": "markdown",
   "metadata": {},
   "source": [
    "## [作業目標]\n",
    "了解機器學習適合應用的領域與範疇。"
   ]
  },
  {
   "cell_type": "markdown",
   "metadata": {},
   "source": [
    "## [作業重點]\n",
    "透過瞭解機器學習的運作方式，找出非常適用機器學習應用的領域及其原因"
   ]
  },
  {
   "cell_type": "markdown",
   "metadata": {},
   "source": [
    "## 作業\n",
    "請找出一個你認為機器學習可以發光發熱的領域並闡述原因? "
   ]
  },
  {
   "cell_type": "markdown",
   "metadata": {},
   "source": [
    "#   請找出一個你認為機器學習可以發光發熱的領域並闡述原因?\n",
    "    領域:近期看過許多關於醫療與機器學習的相關資料，我認為[醫療影像]部分是機器學習可以有效應用的地方。\n",
    "        \n",
    "    原因:了解過幾篇相關論文，其中我認為過深度學習訓練辨識皮膚癌,乳癌等疾病，可行且錯誤率並不低。\n",
    "         甚至有提出直接設置於人手一機的手機，有疑慮的民眾可在家自行確認是否為患者。\n",
    "        \n",
    "        了解機器學習相關知識後，我認為訓練影像最困難的地方是排除那些最相像最容易判斷錯誤的影像，\n",
    "        或是與大部分影像極為不同但是卻是我們要的。好比皮膚癌的圖片做訓練，我們將一個極為相像皮膚癌的換著拿去做鑑定\n",
    "        機器認為這是皮膚癌，但事實卻不為如此，正確率已經可以到很高但是卻依然有誤判。\n",
    "        \n",
    "        所以我認為這方面是機器學習可以繼續投資的領域。\n",
    "        \n",
    "        \n",
    "        \n",
    "        \n",
    "        \n",
    "        \n",
    "        "
   ]
  }
 ],
 "metadata": {
  "kernelspec": {
   "display_name": "Python 3",
   "language": "python",
   "name": "python3"
  },
  "language_info": {
   "codemirror_mode": {
    "name": "ipython",
    "version": 3
   },
   "file_extension": ".py",
   "mimetype": "text/x-python",
   "name": "python",
   "nbconvert_exporter": "python",
   "pygments_lexer": "ipython3",
   "version": "3.7.3"
  }
 },
 "nbformat": 4,
 "nbformat_minor": 2
}
